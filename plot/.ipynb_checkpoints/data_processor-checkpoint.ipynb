{
 "cells": [
  {
   "cell_type": "code",
   "execution_count": 53,
   "metadata": {},
   "outputs": [],
   "source": [
    "import pandas as pd\n",
    "import numpy as np\n",
    "import glob\n",
    "from nested_dict import nested_dict"
   ]
  },
  {
   "cell_type": "code",
   "execution_count": 54,
   "metadata": {
    "collapsed": true
   },
   "outputs": [],
   "source": [
    "df_ans = nested_dict()"
   ]
  },
  {
   "cell_type": "code",
   "execution_count": 55,
   "metadata": {},
   "outputs": [
    {
     "name": "stdout",
     "output_type": "stream",
     "text": [
      "Kovan 3\n",
      "9644.4 6341.59599961 1085612\n",
      "Rinkeby 1\n",
      "30077.1 2787.47354546 917439\n",
      "Rinkeby 6\n",
      "30020.9 294.192095218 73524\n",
      "Ropsten 7\n",
      "28619.1 10963.4633665 118304\n",
      "Rinkeby 9\n",
      "30002.0 472.844348362 476544\n",
      "Ropsten 8\n",
      "35434.6 18609.1997153 207864\n",
      "Ropsten 10\n",
      "49414.0 22919.2577784 924344\n",
      "Kovan 6\n",
      "7633.4 4774.72154395 73524\n",
      "Rinkeby 8\n",
      "30082.6 587.080384426 207864\n",
      "Ropsten 9\n",
      "46657.6 23112.5961146 476544\n",
      "Kovan 2\n",
      "8452.5 4359.21736732 234804\n",
      "Kovan 4\n",
      "9500.8 4690.34430861 2149122\n",
      "Ropsten 6\n",
      "31211.9 13891.3257223 73524\n",
      "Rinkeby 7\n",
      "29938.7 281.668856007 118304\n",
      "Kovan 10\n",
      "10036.9 4679.41151215 924344\n",
      "Ropsten 2\n",
      "51581.9 23289.8511395 234804\n",
      "Ropsten 1\n",
      "40560.2 16687.6210461 917439\n",
      "Ropsten 5\n",
      "68015.7 37514.5402479 37700\n",
      "Kovan 8\n",
      "10784.1 5510.2397901 207864\n",
      "Kovan 5\n",
      "10893.3 6650.84205279 37700\n",
      "Rinkeby 3\n",
      "30050.0 604.805753941 1085612\n",
      "Kovan 1\n",
      "12897.1 4854.45006497 917439\n",
      "Kovan 7\n",
      "10394.6 5439.27714152 118304\n",
      "Rinkeby 2\n",
      "29545.9 1372.28766421 234804\n",
      "Ropsten 4\n",
      "56884.1 42016.5504625 2149122\n",
      "Rinkeby 10\n",
      "30041.5 723.376534808 924344\n",
      "Rinkeby 4\n",
      "30081.0 539.932094496 2149122\n",
      "Ropsten 3\n",
      "39543.9 19227.3847731 1085612\n",
      "Kovan 9\n",
      "11189.8 6249.80824239 476544\n",
      "Rinkeby 5\n",
      "29613.7 1370.16203827 37700\n"
     ]
    }
   ],
   "source": [
    "# Testnet / Exp 1 / (avg, std, gas)\n",
    "path = \"../experiments/*.csv\"\n",
    "for fname in glob.glob(path):\n",
    "    # Parse file name\n",
    "    second_slash_pos = fname.index(\"/\",3)\n",
    "    underscore_pos = fname.index(\"_\")\n",
    "    hash_pos = fname.index(\"#\")\n",
    "    \n",
    "    # Locate Testnet and Experiment Number\n",
    "    testnet = fname[second_slash_pos+1:underscore_pos]\n",
    "    expNum = fname[hash_pos+1:hash_pos+3].rstrip()\n",
    "    print(testnet, expNum)\n",
    "\n",
    "    # Parse data\n",
    "    df = pd.read_csv(fname, names=range(10))\n",
    "    gas = df[5][1] # conventional gas usage\n",
    "    avg = df.mean(axis=1)[0]\n",
    "    std = df.std(axis=1)[0]\n",
    "    print(avg, std, gas)\n",
    "    \n",
    "    # Collect data\n",
    "    df_ans[testnet][expNum][\"avg\"] = avg\n",
    "    df_ans[testnet][expNum][\"std\"] = std\n",
    "    df_ans[testnet][expNum][\"gas\"] = gas\n"
   ]
  },
  {
   "cell_type": "code",
   "execution_count": 58,
   "metadata": {},
   "outputs": [
    {
     "data": {
      "text/plain": [
       "37700"
      ]
     },
     "execution_count": 58,
     "metadata": {},
     "output_type": "execute_result"
    }
   ],
   "source": [
    "df_ans['Ropsten']['5']['gas']"
   ]
  }
 ],
 "metadata": {
  "kernelspec": {
   "display_name": "Python 3",
   "language": "python",
   "name": "python3"
  },
  "language_info": {
   "codemirror_mode": {
    "name": "ipython",
    "version": 3
   },
   "file_extension": ".py",
   "mimetype": "text/x-python",
   "name": "python",
   "nbconvert_exporter": "python",
   "pygments_lexer": "ipython3",
   "version": "3.6.3"
  }
 },
 "nbformat": 4,
 "nbformat_minor": 2
}

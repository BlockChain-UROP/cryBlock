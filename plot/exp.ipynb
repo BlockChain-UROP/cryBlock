{
 "cells": [
  {
   "cell_type": "code",
   "execution_count": 3,
   "metadata": {
    "collapsed": true
   },
   "outputs": [],
   "source": [
    "import matplotlib.pyplot as plt\n",
    "import numpy as np"
   ]
  },
  {
   "cell_type": "code",
   "execution_count": 4,
   "metadata": {
    "collapsed": true
   },
   "outputs": [],
   "source": [
    "x = np.array([1, 2, 3, 4, 5])\n",
    "y = np.power(x, 2) # Effectively y = x**2\n",
    "e = np.array([1.5, 2.6, 3.7, 4.6, 5.5])"
   ]
  },
  {
   "cell_type": "code",
   "execution_count": 5,
   "metadata": {},
   "outputs": [
    {
     "data": {
      "image/png": "[encoded data removed]",
      "text/plain": [
       "<matplotlib.figure.Figure at 0x10ce70c18>"
      ]
     },
     "metadata": {},
     "output_type": "display_data"
    }
   ],
   "source": [
    "plt.errorbar(x, y, e, linestyle='None', marker='8', color='blue')\n",
    "plt.show()"
   ]
  },
  {
   "cell_type": "code",
   "execution_count": null,
   "metadata": {
    "collapsed": true
   },
   "outputs": [],
   "source": []
  },
  {
   "cell_type": "code",
   "execution_count": null,
   "metadata": {
    "collapsed": true
   },
   "outputs": [],
   "source": []
  },
  {
   "cell_type": "code",
   "execution_count": null,
   "metadata": {
    "collapsed": true
   },
   "outputs": [],
   "source": []
  },
  {
   "cell_type": "code",
   "execution_count": null,
   "metadata": {
    "collapsed": true
   },
   "outputs": [],
   "source": []
  },
  {
   "cell_type": "code",
   "execution_count": null,
   "metadata": {
    "collapsed": true
   },
   "outputs": [],
   "source": []
  },
  {
   "cell_type": "code",
   "execution_count": 6,
   "metadata": {
    "collapsed": true
   },
   "outputs": [],
   "source": [
    "avg = dict()\n",
    "std = dict()\n",
    "ind = dict()\n",
    "title = dict()"
   ]
  },
  {
   "cell_type": "code",
   "execution_count": 17,
   "metadata": {},
   "outputs": [],
   "source": [
    "exp_ind = [\"Custodian\", \"Client*1\", \"Client*5\",\"Client*10\"]\n",
    "exp_ind_2 = [\"001\",\"005\",\"010\",\"020\",\"050\",\"100\"]\n",
    "\n",
    "avg['ropsten'] = [31955.1, 44666.9, 35747, 31804.7]\n",
    "std['ropsten'] = [16492.89019, 40934.43526, 22170.31293, 19277.35846]\n",
    "title['ropsten'] = \"Ropsten Testnet\"\n",
    "\n",
    "avg['rinkeby'] = [30161.5, 29455.3, 31166.8, 29933.5]\n",
    "std['rinkeby'] = [2474.809499, 2204.1282, 5397.276058, 797.6851579]\n",
    "title['rinkeby'] = \"Rinkeby Testnet\"\n",
    "\n",
    "avg['kovan'] = [9687, 8924.1, 9852.5, 8843.5]\n",
    "std['kovan'] = [2367.198344, 2074.807539, 3105.834125, 2235.031307]\n",
    "title['kovan'] = \"Kovan Testnet\"\n",
    "\n",
    "avg['ropsten_2'] = [11002.7, 12494.6, 8850.6, 10346.5, 11313.5, 15342.2]\n",
    "std['ropsten_2'] = [3897.542247, 3910.609563, 1760.958905, 4927.528167, 4510.503476, 6925.649457]\n",
    "title['ropsten_2'] = \"Ropsten Testnet 2\""
   ]
  },
  {
   "cell_type": "code",
   "execution_count": null,
   "metadata": {
    "collapsed": true
   },
   "outputs": [],
   "source": []
  },
  {
   "cell_type": "code",
   "execution_count": null,
   "metadata": {
    "collapsed": true
   },
   "outputs": [],
   "source": []
  },
  {
   "cell_type": "code",
   "execution_count": 18,
   "metadata": {
    "collapsed": true
   },
   "outputs": [],
   "source": [
    "# Define a function for a bar plot\n",
    "def barplot(x_data, y_data, error_data, x_label, y_label, title, set_color):\n",
    "    _, ax = plt.subplots()\n",
    "    # Draw bars, position them in the center of the tick mark on the x-axis\n",
    "    ax.bar(x_data, y_data, color = set_color, align = 'center')\n",
    "    # Draw error bars to show standard deviation, set ls to 'none'\n",
    "    # to remove line between points\n",
    "    ax.errorbar(x_data, y_data, yerr = error_data, color = '#297083', ls = 'none', lw = 2, capthick = 2)\n",
    "    ax.set_ylabel(y_label)\n",
    "    ax.set_xlabel(x_label)\n",
    "    ax.set_title(title)"
   ]
  },
  {
   "cell_type": "code",
   "execution_count": 20,
   "metadata": {
    "collapsed": true
   },
   "outputs": [],
   "source": [
    "TEST_NET = ['ropsten_2']\n",
    "COLOR_LIST = ['y']"
   ]
  },
  {
   "cell_type": "code",
   "execution_count": 21,
   "metadata": {},
   "outputs": [
    {
     "data": {
      "image/png": "[encoded data removed]",
      "text/plain": [
       "<matplotlib.figure.Figure at 0x112688208>"
      ]
     },
     "metadata": {},
     "output_type": "display_data"
    }
   ],
   "source": [
    "for index, NET in enumerate(TEST_NET):\n",
    "    barplot(x_data = exp_ind_2\n",
    "            , y_data = avg[NET]\n",
    "            , error_data = std[NET]\n",
    "            , x_label = 'Experiment Title'\n",
    "            , y_label = 'Latency (ms)'\n",
    "            , title = title[NET]\n",
    "            , set_color = COLOR_LIST[index])\n",
    "    plt.show()"
   ]
  },
  {
   "cell_type": "code",
   "execution_count": null,
   "metadata": {
    "collapsed": true
   },
   "outputs": [],
   "source": []
  },
  {
   "cell_type": "code",
   "execution_count": null,
   "metadata": {
    "collapsed": true
   },
   "outputs": [],
   "source": []
  },
  {
   "cell_type": "code",
   "execution_count": null,
   "metadata": {
    "collapsed": true
   },
   "outputs": [],
   "source": []
  }
 ],
 "metadata": {
  "kernelspec": {
   "display_name": "Python 3",
   "language": "python",
   "name": "python3"
  },
  "language_info": {
   "codemirror_mode": {
    "name": "ipython",
    "version": 3
   },
   "file_extension": ".py",
   "mimetype": "text/x-python",
   "name": "python",
   "nbconvert_exporter": "python",
   "pygments_lexer": "ipython3",
   "version": "3.6.3"
  }
 },
 "nbformat": 4,
 "nbformat_minor": 2
}
